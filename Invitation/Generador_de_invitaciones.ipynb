{
  "nbformat": 4,
  "nbformat_minor": 0,
  "metadata": {
    "colab": {
      "name": "Generador de invitaciones",
      "provenance": [],
      "collapsed_sections": []
    },
    "kernelspec": {
      "name": "python3",
      "display_name": "Python 3"
    },
    "language_info": {
      "name": "python"
    }
  },
  "cells": [
    {
      "cell_type": "code",
      "source": [
        "from google.colab import auth\n",
        "auth.authenticate_user()\n",
        "\n",
        "import gspread\n",
        "from google.auth import default\n",
        "creds, _ = default()\n",
        "\n",
        "gc = gspread.authorize(creds)\n",
        "\n"
      ],
      "metadata": {
        "id": "5Jh7F5hctXyf"
      },
      "execution_count": null,
      "outputs": []
    },
    {
      "cell_type": "code",
      "source": [
        "worksheet = gc.open('Lista de invitados').sheet1\n",
        "\n",
        "# get_all_values gives a list of rows.\n",
        "rows = worksheet.get_all_values()\n",
        "\n",
        "# Convert to a DataFrame and render.\n",
        "import pandas as pd\n",
        "lista=pd.DataFrame.from_records(rows)\n",
        "lista.columns = lista.iloc[0]\n",
        "lista=lista.drop(lista.index[0])\n"
      ],
      "metadata": {
        "id": "jAjXDYr1t0fX"
      },
      "execution_count": null,
      "outputs": []
    },
    {
      "cell_type": "code",
      "source": [
        "lista.head()"
      ],
      "metadata": {
        "colab": {
          "base_uri": "https://localhost:8080/",
          "height": 354
        },
        "id": "3XN4KQFru1c5",
        "outputId": "54488e7a-2e81-46bc-b068-469d36b3872c"
      },
      "execution_count": null,
      "outputs": [
        {
          "output_type": "execute_result",
          "data": {
            "text/plain": [
              "0  Invitation Type Nombre destinatario Apellido destinatario  \\\n",
              "1    F A M I L I A                Lucy        Pulido Morales   \n",
              "2  I N V I T A D O             Cecilia     Morales Hernández   \n",
              "3    F A M I L I A            Georgina        Pulido Morales   \n",
              "4    F A M I L I A               Rubén        Pulido Morales   \n",
              "5    F A M I L I A                Saúl         Pulido Osorio   \n",
              "\n",
              "0 Apellidos Familia    Telefono Adultos Niños Total Novio que invita  \\\n",
              "1    Sánchez Pulido  7228447178       6     0     6             Rebe   \n",
              "2                    5573345149       1     0     1             Rebe   \n",
              "3      López Pulido  5518562348       5     0     5             Rebe   \n",
              "4     Pulido Osorio  5546364547       3     0     3             Rebe   \n",
              "5     Pulido Téllez                   2     2     4             Rebe   \n",
              "\n",
              "0             SobreNombre Sexo  Relacion                   KeyTexto Enviado  \\\n",
              "1  Familia Sanchez Pulido    F  Familiar  Familiar familia completa       1   \n",
              "2           Abuelita Cecy    F     Amigo          Amigo acompañante       0   \n",
              "3    Familia López Pulido    F  Familiar  Familiar familia completa       1   \n",
              "4   Familia Pulido Osorio    M  Familiar  Familiar familia completa       0   \n",
              "5   Familia Pulido Téllez    M  Familiar  Familiar familia completa       0   \n",
              "\n",
              "0                                     Texto WhatsApp  \n",
              "1  Estimada Familia Sanchez Pulido, te escribo co...  \n",
              "2  Estimada Abuelita Cecy, te escribo con mucho c...  \n",
              "3  Estimada Familia López Pulido, te escribo con ...  \n",
              "4  Estimado Familia Pulido Osorio, te escribo con...  \n",
              "5  Estimado Familia Pulido Téllez, te escribo con...  "
            ],
            "text/html": [
              "\n",
              "  <div id=\"df-cf1bc3b4-662c-4438-bb66-043698c8a657\">\n",
              "    <div class=\"colab-df-container\">\n",
              "      <div>\n",
              "<style scoped>\n",
              "    .dataframe tbody tr th:only-of-type {\n",
              "        vertical-align: middle;\n",
              "    }\n",
              "\n",
              "    .dataframe tbody tr th {\n",
              "        vertical-align: top;\n",
              "    }\n",
              "\n",
              "    .dataframe thead th {\n",
              "        text-align: right;\n",
              "    }\n",
              "</style>\n",
              "<table border=\"1\" class=\"dataframe\">\n",
              "  <thead>\n",
              "    <tr style=\"text-align: right;\">\n",
              "      <th></th>\n",
              "      <th>Invitation Type</th>\n",
              "      <th>Nombre destinatario</th>\n",
              "      <th>Apellido destinatario</th>\n",
              "      <th>Apellidos Familia</th>\n",
              "      <th>Telefono</th>\n",
              "      <th>Adultos</th>\n",
              "      <th>Niños</th>\n",
              "      <th>Total</th>\n",
              "      <th>Novio que invita</th>\n",
              "      <th>SobreNombre</th>\n",
              "      <th>Sexo</th>\n",
              "      <th>Relacion</th>\n",
              "      <th>KeyTexto</th>\n",
              "      <th>Enviado</th>\n",
              "      <th>Texto WhatsApp</th>\n",
              "    </tr>\n",
              "  </thead>\n",
              "  <tbody>\n",
              "    <tr>\n",
              "      <th>1</th>\n",
              "      <td>F A M I L I A</td>\n",
              "      <td>Lucy</td>\n",
              "      <td>Pulido Morales</td>\n",
              "      <td>Sánchez Pulido</td>\n",
              "      <td>7228447178</td>\n",
              "      <td>6</td>\n",
              "      <td>0</td>\n",
              "      <td>6</td>\n",
              "      <td>Rebe</td>\n",
              "      <td>Familia Sanchez Pulido</td>\n",
              "      <td>F</td>\n",
              "      <td>Familiar</td>\n",
              "      <td>Familiar familia completa</td>\n",
              "      <td>1</td>\n",
              "      <td>Estimada Familia Sanchez Pulido, te escribo co...</td>\n",
              "    </tr>\n",
              "    <tr>\n",
              "      <th>2</th>\n",
              "      <td>I N V I T A D O</td>\n",
              "      <td>Cecilia</td>\n",
              "      <td>Morales Hernández</td>\n",
              "      <td></td>\n",
              "      <td>5573345149</td>\n",
              "      <td>1</td>\n",
              "      <td>0</td>\n",
              "      <td>1</td>\n",
              "      <td>Rebe</td>\n",
              "      <td>Abuelita Cecy</td>\n",
              "      <td>F</td>\n",
              "      <td>Amigo</td>\n",
              "      <td>Amigo acompañante</td>\n",
              "      <td>0</td>\n",
              "      <td>Estimada Abuelita Cecy, te escribo con mucho c...</td>\n",
              "    </tr>\n",
              "    <tr>\n",
              "      <th>3</th>\n",
              "      <td>F A M I L I A</td>\n",
              "      <td>Georgina</td>\n",
              "      <td>Pulido Morales</td>\n",
              "      <td>López Pulido</td>\n",
              "      <td>5518562348</td>\n",
              "      <td>5</td>\n",
              "      <td>0</td>\n",
              "      <td>5</td>\n",
              "      <td>Rebe</td>\n",
              "      <td>Familia López Pulido</td>\n",
              "      <td>F</td>\n",
              "      <td>Familiar</td>\n",
              "      <td>Familiar familia completa</td>\n",
              "      <td>1</td>\n",
              "      <td>Estimada Familia López Pulido, te escribo con ...</td>\n",
              "    </tr>\n",
              "    <tr>\n",
              "      <th>4</th>\n",
              "      <td>F A M I L I A</td>\n",
              "      <td>Rubén</td>\n",
              "      <td>Pulido Morales</td>\n",
              "      <td>Pulido Osorio</td>\n",
              "      <td>5546364547</td>\n",
              "      <td>3</td>\n",
              "      <td>0</td>\n",
              "      <td>3</td>\n",
              "      <td>Rebe</td>\n",
              "      <td>Familia Pulido Osorio</td>\n",
              "      <td>M</td>\n",
              "      <td>Familiar</td>\n",
              "      <td>Familiar familia completa</td>\n",
              "      <td>0</td>\n",
              "      <td>Estimado Familia Pulido Osorio, te escribo con...</td>\n",
              "    </tr>\n",
              "    <tr>\n",
              "      <th>5</th>\n",
              "      <td>F A M I L I A</td>\n",
              "      <td>Saúl</td>\n",
              "      <td>Pulido Osorio</td>\n",
              "      <td>Pulido Téllez</td>\n",
              "      <td></td>\n",
              "      <td>2</td>\n",
              "      <td>2</td>\n",
              "      <td>4</td>\n",
              "      <td>Rebe</td>\n",
              "      <td>Familia Pulido Téllez</td>\n",
              "      <td>M</td>\n",
              "      <td>Familiar</td>\n",
              "      <td>Familiar familia completa</td>\n",
              "      <td>0</td>\n",
              "      <td>Estimado Familia Pulido Téllez, te escribo con...</td>\n",
              "    </tr>\n",
              "  </tbody>\n",
              "</table>\n",
              "</div>\n",
              "      <button class=\"colab-df-convert\" onclick=\"convertToInteractive('df-cf1bc3b4-662c-4438-bb66-043698c8a657')\"\n",
              "              title=\"Convert this dataframe to an interactive table.\"\n",
              "              style=\"display:none;\">\n",
              "        \n",
              "  <svg xmlns=\"http://www.w3.org/2000/svg\" height=\"24px\"viewBox=\"0 0 24 24\"\n",
              "       width=\"24px\">\n",
              "    <path d=\"M0 0h24v24H0V0z\" fill=\"none\"/>\n",
              "    <path d=\"M18.56 5.44l.94 2.06.94-2.06 2.06-.94-2.06-.94-.94-2.06-.94 2.06-2.06.94zm-11 1L8.5 8.5l.94-2.06 2.06-.94-2.06-.94L8.5 2.5l-.94 2.06-2.06.94zm10 10l.94 2.06.94-2.06 2.06-.94-2.06-.94-.94-2.06-.94 2.06-2.06.94z\"/><path d=\"M17.41 7.96l-1.37-1.37c-.4-.4-.92-.59-1.43-.59-.52 0-1.04.2-1.43.59L10.3 9.45l-7.72 7.72c-.78.78-.78 2.05 0 2.83L4 21.41c.39.39.9.59 1.41.59.51 0 1.02-.2 1.41-.59l7.78-7.78 2.81-2.81c.8-.78.8-2.07 0-2.86zM5.41 20L4 18.59l7.72-7.72 1.47 1.35L5.41 20z\"/>\n",
              "  </svg>\n",
              "      </button>\n",
              "      \n",
              "  <style>\n",
              "    .colab-df-container {\n",
              "      display:flex;\n",
              "      flex-wrap:wrap;\n",
              "      gap: 12px;\n",
              "    }\n",
              "\n",
              "    .colab-df-convert {\n",
              "      background-color: #E8F0FE;\n",
              "      border: none;\n",
              "      border-radius: 50%;\n",
              "      cursor: pointer;\n",
              "      display: none;\n",
              "      fill: #1967D2;\n",
              "      height: 32px;\n",
              "      padding: 0 0 0 0;\n",
              "      width: 32px;\n",
              "    }\n",
              "\n",
              "    .colab-df-convert:hover {\n",
              "      background-color: #E2EBFA;\n",
              "      box-shadow: 0px 1px 2px rgba(60, 64, 67, 0.3), 0px 1px 3px 1px rgba(60, 64, 67, 0.15);\n",
              "      fill: #174EA6;\n",
              "    }\n",
              "\n",
              "    [theme=dark] .colab-df-convert {\n",
              "      background-color: #3B4455;\n",
              "      fill: #D2E3FC;\n",
              "    }\n",
              "\n",
              "    [theme=dark] .colab-df-convert:hover {\n",
              "      background-color: #434B5C;\n",
              "      box-shadow: 0px 1px 3px 1px rgba(0, 0, 0, 0.15);\n",
              "      filter: drop-shadow(0px 1px 2px rgba(0, 0, 0, 0.3));\n",
              "      fill: #FFFFFF;\n",
              "    }\n",
              "  </style>\n",
              "\n",
              "      <script>\n",
              "        const buttonEl =\n",
              "          document.querySelector('#df-cf1bc3b4-662c-4438-bb66-043698c8a657 button.colab-df-convert');\n",
              "        buttonEl.style.display =\n",
              "          google.colab.kernel.accessAllowed ? 'block' : 'none';\n",
              "\n",
              "        async function convertToInteractive(key) {\n",
              "          const element = document.querySelector('#df-cf1bc3b4-662c-4438-bb66-043698c8a657');\n",
              "          const dataTable =\n",
              "            await google.colab.kernel.invokeFunction('convertToInteractive',\n",
              "                                                     [key], {});\n",
              "          if (!dataTable) return;\n",
              "\n",
              "          const docLinkHtml = 'Like what you see? Visit the ' +\n",
              "            '<a target=\"_blank\" href=https://colab.research.google.com/notebooks/data_table.ipynb>data table notebook</a>'\n",
              "            + ' to learn more about interactive tables.';\n",
              "          element.innerHTML = '';\n",
              "          dataTable['output_type'] = 'display_data';\n",
              "          await google.colab.output.renderOutput(dataTable, element);\n",
              "          const docLink = document.createElement('div');\n",
              "          docLink.innerHTML = docLinkHtml;\n",
              "          element.appendChild(docLink);\n",
              "        }\n",
              "      </script>\n",
              "    </div>\n",
              "  </div>\n",
              "  "
            ]
          },
          "metadata": {},
          "execution_count": 4
        }
      ]
    },
    {
      "cell_type": "code",
      "source": [
        "!pip install PyPDF2"
      ],
      "metadata": {
        "colab": {
          "base_uri": "https://localhost:8080/"
        },
        "id": "1rvM6rFB1l0y",
        "outputId": "059d370c-dcd9-4799-859f-cd438f813a12"
      },
      "execution_count": null,
      "outputs": [
        {
          "output_type": "stream",
          "name": "stdout",
          "text": [
            "Looking in indexes: https://pypi.org/simple, https://us-python.pkg.dev/colab-wheels/public/simple/\n",
            "Collecting PyPDF2\n",
            "  Downloading PyPDF2-2.10.0-py3-none-any.whl (208 kB)\n",
            "\u001b[K     |████████████████████████████████| 208 kB 5.4 MB/s \n",
            "\u001b[?25hRequirement already satisfied: typing-extensions in /usr/local/lib/python3.7/dist-packages (from PyPDF2) (4.1.1)\n",
            "Installing collected packages: PyPDF2\n",
            "Successfully installed PyPDF2-2.10.0\n"
          ]
        }
      ]
    },
    {
      "cell_type": "code",
      "source": [
        "!pip install reportlab"
      ],
      "metadata": {
        "colab": {
          "base_uri": "https://localhost:8080/",
          "height": 354
        },
        "id": "ehXk9ka517rM",
        "outputId": "ad8d58c6-d79c-4d4c-d79e-548111a655bd"
      },
      "execution_count": null,
      "outputs": [
        {
          "output_type": "stream",
          "name": "stdout",
          "text": [
            "Looking in indexes: https://pypi.org/simple, https://us-python.pkg.dev/colab-wheels/public/simple/\n",
            "Collecting reportlab\n",
            "  Downloading reportlab-3.6.11-cp37-cp37m-manylinux_2_17_x86_64.manylinux2014_x86_64.whl (2.8 MB)\n",
            "\u001b[K     |████████████████████████████████| 2.8 MB 5.2 MB/s \n",
            "\u001b[?25hCollecting pillow>=9.0.0\n",
            "  Downloading Pillow-9.2.0-cp37-cp37m-manylinux_2_17_x86_64.manylinux2014_x86_64.whl (3.1 MB)\n",
            "\u001b[K     |████████████████████████████████| 3.1 MB 60.3 MB/s \n",
            "\u001b[?25hInstalling collected packages: pillow, reportlab\n",
            "  Attempting uninstall: pillow\n",
            "    Found existing installation: Pillow 7.1.2\n",
            "    Uninstalling Pillow-7.1.2:\n",
            "      Successfully uninstalled Pillow-7.1.2\n",
            "Successfully installed pillow-9.2.0 reportlab-3.6.11\n"
          ]
        },
        {
          "output_type": "display_data",
          "data": {
            "application/vnd.colab-display-data+json": {
              "pip_warning": {
                "packages": [
                  "PIL"
                ]
              }
            }
          },
          "metadata": {}
        }
      ]
    },
    {
      "cell_type": "code",
      "source": [
        "!pip install pdfplumber"
      ],
      "metadata": {
        "colab": {
          "base_uri": "https://localhost:8080/"
        },
        "id": "ZpreKa8xBL1o",
        "outputId": "c83b5f79-2b4b-436e-97de-482268f9f053"
      },
      "execution_count": null,
      "outputs": [
        {
          "output_type": "stream",
          "name": "stdout",
          "text": [
            "Looking in indexes: https://pypi.org/simple, https://us-python.pkg.dev/colab-wheels/public/simple/\n",
            "Collecting pdfplumber\n",
            "  Downloading pdfplumber-0.7.4-py3-none-any.whl (40 kB)\n",
            "\u001b[K     |████████████████████████████████| 40 kB 2.0 MB/s \n",
            "\u001b[?25hRequirement already satisfied: Pillow>=9.1 in /usr/local/lib/python3.7/dist-packages (from pdfplumber) (9.2.0)\n",
            "Collecting Wand>=0.6.7\n",
            "  Downloading Wand-0.6.9-py2.py3-none-any.whl (142 kB)\n",
            "\u001b[K     |████████████████████████████████| 142 kB 8.3 MB/s \n",
            "\u001b[?25hCollecting pdfminer.six==20220524\n",
            "  Downloading pdfminer.six-20220524-py3-none-any.whl (5.6 MB)\n",
            "\u001b[K     |████████████████████████████████| 5.6 MB 50.6 MB/s \n",
            "\u001b[?25hCollecting cryptography>=36.0.0\n",
            "  Downloading cryptography-37.0.4-cp36-abi3-manylinux_2_24_x86_64.whl (4.1 MB)\n",
            "\u001b[K     |████████████████████████████████| 4.1 MB 24.7 MB/s \n",
            "\u001b[?25hRequirement already satisfied: charset-normalizer>=2.0.0 in /usr/local/lib/python3.7/dist-packages (from pdfminer.six==20220524->pdfplumber) (2.1.0)\n",
            "Requirement already satisfied: cffi>=1.12 in /usr/local/lib/python3.7/dist-packages (from cryptography>=36.0.0->pdfminer.six==20220524->pdfplumber) (1.15.1)\n",
            "Requirement already satisfied: pycparser in /usr/local/lib/python3.7/dist-packages (from cffi>=1.12->cryptography>=36.0.0->pdfminer.six==20220524->pdfplumber) (2.21)\n",
            "Installing collected packages: cryptography, Wand, pdfminer.six, pdfplumber\n",
            "Successfully installed Wand-0.6.9 cryptography-37.0.4 pdfminer.six-20220524 pdfplumber-0.7.4\n"
          ]
        }
      ]
    },
    {
      "cell_type": "code",
      "source": [
        "from PyPDF2 import PdfFileWriter, PdfFileReader\n",
        "import io\n",
        "from reportlab.pdfgen import canvas\n",
        "from reportlab.lib.pagesizes import letter\n",
        "from reportlab.lib.units import inch\n",
        "\n",
        "from reportlab.pdfbase import pdfmetrics\n",
        "from reportlab.pdfbase.ttfonts import TTFont\n",
        "\n",
        "pdfmetrics.registerFont(TTFont('Montserrat', 'Montserrat-Light.ttf'))\n",
        "pdfmetrics.registerFont(TTFont('Allura', 'Allura-Regular.ttf'))\n"
      ],
      "metadata": {
        "id": "HyeLRrc6Cs-X"
      },
      "execution_count": null,
      "outputs": []
    },
    {
      "cell_type": "code",
      "source": [
        "for invitado in range(0,len(lista)):\n",
        "#for invitado in range(0,3):\n",
        "\n",
        "  Familia = lista.iloc[invitado,0]\n",
        "  Nombre = lista.iloc[invitado,1]\n",
        "  Apellidos = lista.iloc[invitado,2]\n",
        "  ApellidosFamilia = lista.iloc[invitado,3]\n",
        "  Boletos = lista.iloc[invitado,7]\n",
        "\n",
        "  packet = io.BytesIO()\n",
        "  can = canvas.Canvas(packet, pagesize=letter)\n",
        "\n",
        "  # define a large font\n",
        "  can.setFont(\"Allura\", 20)\n",
        "  # choose some colors\n",
        "  can.setStrokeColorRGB(255,255,255)\n",
        "  can.setFillColorRGB(255,255,255)\n",
        "  # draw a rectangle\n",
        "  can.rect(30,40,350,50, fill=1)\n",
        "  # change color\n",
        "  can.setFillColorRGB(0,0,0)\n",
        "  if Familia==\"F A M I L I A\":\n",
        "      can.setFont(\"Allura\", 20)\n",
        "      can.drawString(180, 65, ApellidosFamilia)\n",
        "  else: \n",
        "    if len(Nombre+Apellidos)<=20:\n",
        "      can.setFont(\"Allura\", 20)\n",
        "      can.drawString(200, 65, Nombre+ \" \" +Apellidos)\n",
        "    else:\n",
        "      can.setFont(\"Allura\", 18)\n",
        "      can.drawString(200, 75, Nombre)\n",
        "      can.drawString(200, 58, Apellidos)\n",
        "\n",
        "  # change color\n",
        "  can.setFont(\"Montserrat\", 20)\n",
        "  can.setFillColorRGB(0.78,0.72,0.70)\n",
        "  can.setStrokeColorRGB(0.78,0.72,0.70)\n",
        "  can.drawString(50, 65, Familia+\" :\")\n",
        "  # change color\n",
        "  can.setFont(\"Montserrat\", 12)\n",
        "  can.setFillColorRGB(0,0,0)\n",
        "  can.setStrokeColorRGB(0,0,0)\n",
        "\n",
        "  if Familia==\"F A M I L I A\":\n",
        "     can.drawString(180, 40, Boletos+\"   B O L E T O S\")\n",
        "  else: \n",
        "    if Boletos==\"1\":\n",
        "      can.drawString(200, 40, Boletos+\"   B O L E T O\")\n",
        "    else: \n",
        "      can.drawString(200, 40, Boletos+\"   B O L E T O S\")\n",
        "\n",
        "\n",
        "  can.showPage()\n",
        "  can.save()\n",
        "\n",
        "  #move to the beginning of the StringIO buffer\n",
        "  packet.seek(0)\n",
        "\n",
        "  # create a new PDF with Reportlab\n",
        "  new_pdf = PdfFileReader(packet)\n",
        "  # read your existing PDF\n",
        "  existing_pdf = PdfFileReader(open(\"/content/PDF.pdf\", \"rb\"))\n",
        "  output = PdfFileWriter()\n",
        "  # add the \"watermark\" (which is the new pdf) on the existing page\n",
        "  page = existing_pdf.getPage(0)\n",
        "  page.mergePage(new_pdf.getPage(0))\n",
        "  output.addPage(page)\n",
        "  # finally, write \"output\" to a real file\n",
        "  outputStream = open(\"Invitación\" +\" \"+Nombre+\" \"+ Apellidos+\".pdf\", \"wb\")\n",
        "  output.write(outputStream)\n",
        "  outputStream.close()"
      ],
      "metadata": {
        "id": "8falUTtl0Gxa"
      },
      "execution_count": null,
      "outputs": []
    },
    {
      "cell_type": "code",
      "source": [
        "from google.colab import drive\n",
        "drive.mount('/content/drive')\n",
        "import shutil"
      ],
      "metadata": {
        "colab": {
          "base_uri": "https://localhost:8080/"
        },
        "id": "ViciDA3Sm_QW",
        "outputId": "632acd63-8fe2-4fc4-effa-6b979101777d"
      },
      "execution_count": null,
      "outputs": [
        {
          "output_type": "stream",
          "name": "stdout",
          "text": [
            "Drive already mounted at /content/drive; to attempt to forcibly remount, call drive.mount(\"/content/drive\", force_remount=True).\n"
          ]
        }
      ]
    },
    {
      "cell_type": "code",
      "source": [
        "import os\n",
        "path = r\"/content/\"   \n",
        "invitaciones=[x for x in os.listdir(path) if \"Invitación\" in x]\n",
        "for x in invitaciones:\n",
        "  shutil.copy(\"/content/\"+x,\"/content/drive/MyDrive/Invitaciones\")\n"
      ],
      "metadata": {
        "id": "YqUHEdfdoIbh"
      },
      "execution_count": null,
      "outputs": []
    }
  ]
}