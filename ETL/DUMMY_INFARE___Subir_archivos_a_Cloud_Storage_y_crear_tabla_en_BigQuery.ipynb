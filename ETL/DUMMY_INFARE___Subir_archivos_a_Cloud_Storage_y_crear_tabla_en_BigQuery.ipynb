{
  "nbformat": 4,
  "nbformat_minor": 0,
  "metadata": {
    "colab": {
      "name": "DUMMY INFARE | Subir archivos a Cloud Storage y crear tabla en BigQuery",
      "provenance": [],
      "collapsed_sections": []
    },
    "kernelspec": {
      "name": "python3",
      "display_name": "Python 3"
    },
    "language_info": {
      "name": "python"
    }
  },
  "cells": [
    {
      "cell_type": "markdown",
      "source": [
        "# Pasos a seguir"
      ],
      "metadata": {
        "id": "bChb4pRUk8g_"
      }
    },
    {
      "cell_type": "markdown",
      "source": [
        "Ejecutar código: Menú Entorno de ejecución / Ejecutar todo\n",
        "\n",
        "\n",
        "\n",
        "\n"
      ],
      "metadata": {
        "id": "xhyK-rAUlCV9"
      }
    },
    {
      "cell_type": "markdown",
      "source": [
        "#Instalacion de paqueterías"
      ],
      "metadata": {
        "id": "MR63dvuu2Lx5"
      }
    },
    {
      "cell_type": "code",
      "source": [
        "#Conectarse al SFTP\n",
        "import ftplib\n",
        "import gzip\n",
        "import zipfile\n",
        "import shutil\n",
        "import pandas as pd\n",
        "\n",
        "import os\n",
        "from os import listdir\n",
        "import json\n",
        "\n",
        "from googleapiclient.discovery import build\n",
        "from googleapiclient.http import MediaFileUpload\n",
        "from google.cloud import storage\n",
        "\n",
        "gcs_service = build('storage', 'v1',)\n",
        "bucket_name=\"vb-infarecargamanual001\""
      ],
      "metadata": {
        "id": "GAh8cTDxpDPf"
      },
      "execution_count": null,
      "outputs": []
    },
    {
      "cell_type": "markdown",
      "source": [
        "#Credenciales de la cuenta de servicio\n"
      ],
      "metadata": {
        "id": "d6GeYt_CeTbG"
      }
    },
    {
      "cell_type": "code",
      "source": [
        "credentials_dict = {\n",
        "  \"type\": \"service_account\",\n",
        "  \"project_id\": \"vb-datalake-01-prd\",\n",
        "  \"private_key_id\": \"EXAMPLE\",\n",
        "  \"private_key\": \"EXAMPLE\",\n",
        "  \"client_email\": \"EXAMPLE\",\n",
        "  \"client_id\": \"EXAMPLE\",\n",
        "  \"auth_uri\": \"EXAMPLE\",\n",
        "  \"token_uri\": \"EXAMPLE\",\n",
        "  \"auth_provider_x509_cert_url\": \"EXAMPLE\",\n",
        "  \"client_x509_cert_url\": \"EXAMPLE\"\n",
        "}\n",
        "\n",
        "with open(\"credentials.json\", \"w\") as outfile:\n",
        "    json.dump(credentials_dict, outfile)\n",
        "\n",
        "os.environ[\"GOOGLE_APPLICATION_CREDENTIALS\"]=\"/content/credentials.json\"    "
      ],
      "metadata": {
        "id": "5RAYmBRDEzVp"
      },
      "execution_count": null,
      "outputs": []
    },
    {
      "cell_type": "markdown",
      "source": [
        "#Conexion al SFTP"
      ],
      "metadata": {
        "id": "bfPguh0o2WaQ"
      }
    },
    {
      "cell_type": "code",
      "source": [
        "#Conectarse al SFTP\n",
        "\n",
        "#Open ftp connection\n",
        "ftp = ftplib.FTP(host='ftp.infare.net',user='user', passwd='passwd',timeout=10800)\n",
        "\n",
        "#List the files in the current directory\n",
        "print (\"File List:\")\n",
        "files = ftp.dir()\n",
        "print (files)"
      ],
      "metadata": {
        "colab": {
          "base_uri": "https://localhost:8080/"
        },
        "id": "TSyG6-wzowmp",
        "outputId": "ec0de89d-50e4-4f0e-8a56-f35d275743cb"
      },
      "execution_count": null,
      "outputs": [
        {
          "output_type": "stream",
          "name": "stdout",
          "text": [
            "File List:\n",
            "drwxrwxrwx   1 user     group           0 Jun 30 22:23 AirRM\n",
            "drwxrwxrwx   1 user     group           0 Jun 22 09:17 year=2019\n",
            "None\n"
          ]
        }
      ]
    },
    {
      "cell_type": "code",
      "source": [
        "#Archivos en SFTP\n",
        "path=\"/AirRM/Archive\"\n",
        "ftp.cwd(path)\n",
        "\n",
        "files = []\n",
        "files=[filename for filename in ftp.nlst(path) if filename.endswith('.zip')]"
      ],
      "metadata": {
        "id": "wzCLLVm5pyBp"
      },
      "execution_count": null,
      "outputs": []
    },
    {
      "cell_type": "markdown",
      "source": [
        "#Se obtienen los archivos que no estan cargados en Cloud storage"
      ],
      "metadata": {
        "id": "cEOlXjqk2iHr"
      }
    },
    {
      "cell_type": "code",
      "source": [
        "#Archivos en cloud storage\n",
        "from google.cloud import storage\n",
        "\n",
        "storage_client = storage.Client()\n",
        "blobs = storage_client.list_blobs(bucket_name)\n",
        "CloudStorageFiles= [blob.name.replace(\".csv\", \".zip\") for blob in blobs]"
      ],
      "metadata": {
        "id": "WxZxuuDpq8LF"
      },
      "execution_count": null,
      "outputs": []
    },
    {
      "cell_type": "code",
      "source": [
        "#Archivos pendientes\n",
        "ArchivosPendientes = [file for file in files if file not in CloudStorageFiles] \n",
        "ArchivosPendientes"
      ],
      "metadata": {
        "colab": {
          "base_uri": "https://localhost:8080/"
        },
        "id": "dzkVpBaGuyKL",
        "outputId": "24748657-7695-4fba-bbb8-befeea8cdb0c"
      },
      "execution_count": null,
      "outputs": [
        {
          "output_type": "execute_result",
          "data": {
            "text/plain": [
              "['VB_INF_300620221420.zip',\n",
              " 'VB_INF_300620221440.zip',\n",
              " 'VB_INF_300620221500.zip',\n",
              " 'VB_INF_300620221520.zip']"
            ]
          },
          "metadata": {},
          "execution_count": 6
        }
      ]
    },
    {
      "cell_type": "code",
      "source": [
        "directory=os.getcwd()\n",
        "directory"
      ],
      "metadata": {
        "colab": {
          "base_uri": "https://localhost:8080/",
          "height": 36
        },
        "id": "FDNUeVjX9Rpc",
        "outputId": "9d1df36c-89d0-4569-be1c-418cdd4ca33a"
      },
      "execution_count": null,
      "outputs": [
        {
          "output_type": "execute_result",
          "data": {
            "text/plain": [
              "'/content'"
            ],
            "application/vnd.google.colaboratory.intrinsic+json": {
              "type": "string"
            }
          },
          "metadata": {},
          "execution_count": 31
        }
      ]
    },
    {
      "cell_type": "markdown",
      "source": [
        "# Ejecución de data transfer y lista de archivos a subir a Cloud storage"
      ],
      "metadata": {
        "id": "1D31F0RY28xf"
      }
    },
    {
      "cell_type": "code",
      "source": [
        "#CARGAR LOS ARCHIVOS AL DIRECTORIO\n",
        "for file in ArchivosPendientes:\n",
        "  localfile = open(file, 'wb')\n",
        "  ftp.retrbinary('RETR ' + file, localfile.write, 1024)\n",
        "  localfile.close()\n",
        "\n",
        "#ENLISTAR LOS ARCHIVOS .zip\n",
        "zipfiles = [f for f in listdir(directory) if f.endswith('.zip')]\n",
        "print(\"El numero de archivos 'zip' cargados es: {}\".format(len(zipfiles))) \n",
        "\n",
        "#Desempaquetarlos y borrar archivos .zip\n",
        "for zip_file in zipfiles:\n",
        "  with zipfile.ZipFile(directory + \"/\"+ zip_file, 'r') as zip_ref:\n",
        "    zip_ref.extractall(directory)\n",
        "    os.remove(zip_file)\n",
        "\n",
        "csvtoupload = [f for f in listdir(directory) if f.endswith('.csv')]\n",
        "print(\"El numero de archivos '.csv' desempaquetados es: {}\".format(len(csvtoupload)))\n",
        "print(\"\\nArchivos a subir:\\n\")\n",
        "print(csvtoupload)\n"
      ],
      "metadata": {
        "colab": {
          "base_uri": "https://localhost:8080/"
        },
        "id": "thORHEPiwBlB",
        "outputId": "d770d6cb-ec98-4101-9e9e-5a71141d1352"
      },
      "execution_count": null,
      "outputs": [
        {
          "output_type": "stream",
          "name": "stdout",
          "text": [
            "El numero de archivos 'zip' cargados es: 6\n",
            "El numero de archivos '.csv' desempaquetados es: 6\n",
            "\n",
            "Archivos a subir:\n",
            "\n",
            "['VB_INF_290620221520.csv', 'VB_INF_290620221500.csv', 'VB_INF_290620221440.csv', 'VB_INF_290620221600.csv', 'VB_INF_290620221620.csv', 'VB_INF_290620221540.csv']\n"
          ]
        }
      ]
    },
    {
      "cell_type": "markdown",
      "source": [
        "# Subir archivos a Cloud Storage"
      ],
      "metadata": {
        "id": "b3P2g_6gbrmT"
      }
    },
    {
      "cell_type": "code",
      "source": [
        "from googleapiclient.discovery import build\n",
        "from googleapiclient.http import MediaFileUpload\n",
        "\n",
        "gcs_service = build('storage', 'v1',)\n",
        "bucket_name=\"vb-infarecargamanual001\"\n",
        "\n",
        "for f in csvtoupload:\n",
        "    name= f\n",
        "    media = MediaFileUpload(directory+\"/\"+ f,resumable=True)\n",
        "    request = gcs_service.objects().insert(bucket=bucket_name, \n",
        "                                       name= f,\n",
        "                                       media_body=media)\n",
        "    response = None\n",
        "    while response is None:\n",
        "       _, response = request.next_chunk()\n",
        "  # _ is a placeholder for a progress object that we ignore.\n",
        "  # (Our file is small, so we skip reporting progress.)\n",
        "\n",
        "    print('{} Upload complete'.format(f))"
      ],
      "metadata": {
        "id": "8-SuEG3mUMtm",
        "colab": {
          "base_uri": "https://localhost:8080/"
        },
        "outputId": "4a87072a-13c4-4828-9870-1c61fb15a3e9"
      },
      "execution_count": null,
      "outputs": [
        {
          "output_type": "stream",
          "name": "stdout",
          "text": [
            "VB_INF_290620221420.csv Upload complete\n",
            "VB_INF_290620221340.csv Upload complete\n",
            "VB_INF_290620221400.csv Upload complete\n",
            "VB_INF_290620221320.csv Upload complete\n"
          ]
        }
      ]
    },
    {
      "cell_type": "markdown",
      "source": [
        "#Crear tabla en Bigquery con archivos de Cloud Storage"
      ],
      "metadata": {
        "id": "B9G4nzga7vJG"
      }
    },
    {
      "cell_type": "code",
      "execution_count": null,
      "metadata": {
        "colab": {
          "base_uri": "https://localhost:8080/"
        },
        "id": "dnqBIcbGa8h_",
        "outputId": "a07a37bd-327c-4b6b-ff51-e6c1552c5f22"
      },
      "outputs": [
        {
          "output_type": "stream",
          "name": "stdout",
          "text": [
            "Deleted table 'vb-datalake-01-prd.Viva_Infare.Captures'.\n",
            "Loaded 42984464 rows to table vb-datalake-01-prd.Viva_Infare.Captures\n"
          ]
        }
      ],
      "source": [
        "from google.cloud import bigquery\n",
        "\n",
        "# Construct a BigQuery client object.\n",
        "client = bigquery.Client()\n",
        "\n",
        "# TODO(developer): Set table_id to the ID of the table to create.\n",
        "table_id = \"vb-datalake-01-prd.Viva_Infare.Captures\"\n",
        "\n",
        "#Borrar tabla existente\n",
        "client.delete_table(table_id, not_found_ok=True)  # Make an API request.\n",
        "print(\"Deleted table '{}'.\".format(table_id))\n",
        "\n",
        "#Configurar tabla \n",
        "job_config = bigquery.LoadJobConfig(\n",
        "    schema=[\n",
        "        bigquery.SchemaField(\"id\", \"INTEGER\"),\n",
        "        bigquery.SchemaField(\"observation_date\", \"DATE\"),\n",
        "        bigquery.SchemaField(\"observation_time\", \"STRING\"),\n",
        "        bigquery.SchemaField(\"pos\", \"STRING\"),\n",
        "        bigquery.SchemaField(\"origin\", \"STRING\"),\n",
        "        bigquery.SchemaField(\"destination\", \"STRING\"),\n",
        "        bigquery.SchemaField(\"is_one_way\", \"INTEGER\"),\n",
        "        bigquery.SchemaField(\"outbound_travel_stop_over\", \"STRING\"),\n",
        "        bigquery.SchemaField(\"inbound_travel_stop_over\", \"STRING\"),\n",
        "        bigquery.SchemaField(\"carrier\", \"STRING\"),\n",
        "        bigquery.SchemaField(\"outbound_flight_no\", \"STRING\"),\n",
        "        bigquery.SchemaField(\"inbound_flight_no\", \"STRING\"),\n",
        "        bigquery.SchemaField(\"outbound_departure_date\", \"TIMESTAMP\"),\n",
        "        bigquery.SchemaField(\"outbound_arrival_date\", \"TIMESTAMP\"),\n",
        "        bigquery.SchemaField(\"inbound_departure_date\", \"TIMESTAMP\"),\n",
        "        bigquery.SchemaField(\"inbound_arrival_date\", \"TIMESTAMP\"),\n",
        "        bigquery.SchemaField(\"outbound_fare_basis\", \"STRING\"),\n",
        "        bigquery.SchemaField(\"inbound_fare_basis\", \"STRING\"),\n",
        "        bigquery.SchemaField(\"outbound_booking_class\", \"STRING\"),\n",
        "        bigquery.SchemaField(\"inbound_booking_class\", \"STRING\"),\n",
        "        bigquery.SchemaField(\"price_exc\", \"FLOAT\"),\n",
        "        bigquery.SchemaField(\"price_inc\", \"FLOAT\"),\n",
        "        bigquery.SchemaField(\"tax\", \"FLOAT\"),\n",
        "        bigquery.SchemaField(\"currency\", \"STRING\"),\n",
        "        bigquery.SchemaField(\"source\", \"STRING\"),\n",
        "        bigquery.SchemaField(\"price_outbound\", \"FLOAT\"),\n",
        "        bigquery.SchemaField(\"price_inbound\", \"FLOAT\"),\n",
        "        bigquery.SchemaField(\"is_tax_inc_outin\", \"INTEGER\")    \n",
        "    ],\n",
        "    skip_leading_rows=1,\n",
        ")\n",
        "\n",
        "#Anterior URI\n",
        "#uri = \"gs://vb-infarecargamanual001/VB_INF_*.csv\"\n",
        "\n",
        "uri = \"gs://vb-infarecargamanual001/*.csv\"\n",
        "\n",
        "\n",
        "load_job = client.load_table_from_uri(\n",
        "    uri, table_id, job_config=job_config\n",
        ")  # Make an API request.\n",
        "\n",
        "load_job.result()  # Wait for the job to complete.\n",
        "\n",
        "table = client.get_table(table_id)\n",
        "print(\"Loaded {} rows to table {}\".format(table.num_rows, table_id))"
      ]
    },
    {
      "cell_type": "markdown",
      "source": [
        "#Limpiar directorio de archivos y cerrar conexión con FTP"
      ],
      "metadata": {
        "id": "Mou31h8qiQRt"
      }
    },
    {
      "cell_type": "code",
      "source": [
        "onlyfiles = [f for f in listdir(directory) if f.endswith('.csv')]\n",
        "\n",
        "for f in onlyfiles:\n",
        "  os.remove(f)\n",
        "\n",
        "os.remove(\"/content/credentials.json\")\n",
        "#Cerrar conexion sftp\n",
        "ftp.quit()  "
      ],
      "metadata": {
        "id": "rABvrjr7gLsT",
        "colab": {
          "base_uri": "https://localhost:8080/",
          "height": 36
        },
        "outputId": "dcd3b0d4-7787-494c-f628-9d9ab5d5a862"
      },
      "execution_count": null,
      "outputs": [
        {
          "output_type": "execute_result",
          "data": {
            "text/plain": [
              "'221 Goodbye.'"
            ],
            "application/vnd.google.colaboratory.intrinsic+json": {
              "type": "string"
            }
          },
          "metadata": {},
          "execution_count": 10
        }
      ]
    }
  ]
}