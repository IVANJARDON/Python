{
 "cells": [
  {
   "cell_type": "code",
   "execution_count": 10,
   "metadata": {},
   "outputs": [],
   "source": [
    "#Paqueterias\n",
    "import pandas as pd\n",
    "pd.options.display.float_format = '{:,.2f}'.format\n",
    "input_path='/Users/ivanjardon/Downloads/'\n",
    "output_path='/Users/ivanjardon/Documents/'"
   ]
  },
  {
   "cell_type": "code",
   "execution_count": 20,
   "metadata": {},
   "outputs": [],
   "source": [
    "#File name identifier\n",
    "name='fraud_'\n",
    "#Number of datasets to load\n",
    "x=12"
   ]
  },
  {
   "cell_type": "code",
   "execution_count": 28,
   "metadata": {},
   "outputs": [
    {
     "data": {
      "text/html": [
       "<div>\n",
       "<style scoped>\n",
       "    .dataframe tbody tr th:only-of-type {\n",
       "        vertical-align: middle;\n",
       "    }\n",
       "\n",
       "    .dataframe tbody tr th {\n",
       "        vertical-align: top;\n",
       "    }\n",
       "\n",
       "    .dataframe thead th {\n",
       "        text-align: right;\n",
       "    }\n",
       "</style>\n",
       "<table border=\"1\" class=\"dataframe\">\n",
       "  <thead>\n",
       "    <tr style=\"text-align: right;\">\n",
       "      <th></th>\n",
       "      <th>month</th>\n",
       "      <th>country</th>\n",
       "      <th>category_en</th>\n",
       "      <th>category_es</th>\n",
       "      <th>store_id</th>\n",
       "      <th>store</th>\n",
       "      <th>status</th>\n",
       "      <th>operation_type</th>\n",
       "      <th>reason</th>\n",
       "      <th>canceled_orders</th>\n",
       "    </tr>\n",
       "  </thead>\n",
       "  <tbody>\n",
       "    <tr>\n",
       "      <th>337</th>\n",
       "      <td>2021-02</td>\n",
       "      <td>US</td>\n",
       "      <td>International</td>\n",
       "      <td>Internacional</td>\n",
       "      <td>7422</td>\n",
       "      <td>India Bazaar</td>\n",
       "      <td>CANCELED_BY_CM</td>\n",
       "      <td>CANCEL_ORDER</td>\n",
       "      <td>Fraudulent User</td>\n",
       "      <td>1</td>\n",
       "    </tr>\n",
       "    <tr>\n",
       "      <th>338</th>\n",
       "      <td>2021-02</td>\n",
       "      <td>US</td>\n",
       "      <td>Grocery</td>\n",
       "      <td>Supermercados</td>\n",
       "      <td>5554</td>\n",
       "      <td>Tom Thumb</td>\n",
       "      <td>REJECTED_BY_SYSTEM</td>\n",
       "      <td>CANCEL_ORDER</td>\n",
       "      <td>Fraudulent User</td>\n",
       "      <td>1</td>\n",
       "    </tr>\n",
       "    <tr>\n",
       "      <th>339</th>\n",
       "      <td>2021-02</td>\n",
       "      <td>US</td>\n",
       "      <td>Grocery</td>\n",
       "      <td>Supermercados</td>\n",
       "      <td>4533</td>\n",
       "      <td>Fresco y Más</td>\n",
       "      <td>CANCELED_BY_CM</td>\n",
       "      <td>CANCEL_ORDER</td>\n",
       "      <td>Fraudulent User</td>\n",
       "      <td>1</td>\n",
       "    </tr>\n",
       "    <tr>\n",
       "      <th>340</th>\n",
       "      <td>2021-02</td>\n",
       "      <td>US</td>\n",
       "      <td>Pharmacy</td>\n",
       "      <td>Farmacia</td>\n",
       "      <td>6651</td>\n",
       "      <td>David's Pharmacy</td>\n",
       "      <td>CANCELED_BY_CM</td>\n",
       "      <td>CANCEL_ORDER</td>\n",
       "      <td>Fraudulent User</td>\n",
       "      <td>1</td>\n",
       "    </tr>\n",
       "    <tr>\n",
       "      <th>341</th>\n",
       "      <td>2021-02</td>\n",
       "      <td>US</td>\n",
       "      <td>Grocery</td>\n",
       "      <td>Supermercados</td>\n",
       "      <td>6514</td>\n",
       "      <td>Exito Fresh Market</td>\n",
       "      <td>CANCELED_BY_CM</td>\n",
       "      <td>CANCEL_ORDER</td>\n",
       "      <td>Fraudulent User</td>\n",
       "      <td>1</td>\n",
       "    </tr>\n",
       "  </tbody>\n",
       "</table>\n",
       "</div>"
      ],
      "text/plain": [
       "       month country    category_en    category_es  store_id  \\\n",
       "337  2021-02      US  International  Internacional      7422   \n",
       "338  2021-02      US        Grocery  Supermercados      5554   \n",
       "339  2021-02      US        Grocery  Supermercados      4533   \n",
       "340  2021-02      US       Pharmacy       Farmacia      6651   \n",
       "341  2021-02      US        Grocery  Supermercados      6514   \n",
       "\n",
       "                  store              status operation_type           reason  \\\n",
       "337        India Bazaar      CANCELED_BY_CM   CANCEL_ORDER  Fraudulent User   \n",
       "338           Tom Thumb  REJECTED_BY_SYSTEM   CANCEL_ORDER  Fraudulent User   \n",
       "339        Fresco y Más      CANCELED_BY_CM   CANCEL_ORDER  Fraudulent User   \n",
       "340    David's Pharmacy      CANCELED_BY_CM   CANCEL_ORDER  Fraudulent User   \n",
       "341  Exito Fresh Market      CANCELED_BY_CM   CANCEL_ORDER  Fraudulent User   \n",
       "\n",
       "     canceled_orders  \n",
       "337                1  \n",
       "338                1  \n",
       "339                1  \n",
       "340                1  \n",
       "341                1  "
      ]
     },
     "execution_count": 28,
     "metadata": {},
     "output_type": "execute_result"
    }
   ],
   "source": [
    "#Leer datos\n",
    "df=pd.DataFrame()\n",
    "for number in range(1,x+1):\n",
    "    df=df.append(pd.read_csv(input_path+name+str(number)+'.csv'))\n",
    "\n",
    "df = df.rename(columns={'orders':'canceled_orders'})    \n",
    "df.tail()"
   ]
  },
  {
   "cell_type": "code",
   "execution_count": 29,
   "metadata": {},
   "outputs": [],
   "source": [
    "df.to_excel(output_path+name+'consolidated'+'.xlsx',index=False)"
   ]
  },
  {
   "cell_type": "code",
   "execution_count": 32,
   "metadata": {},
   "outputs": [],
   "source": [
    "summary=df.groupby(['country','category_en','category_es','operation_type','reason']).agg({'canceled_orders':'sum'}).reset_index()\n",
    "summary.to_excel(output_path+name+'summary'+'.xlsx',index=False)"
   ]
  }
 ],
 "metadata": {
  "kernelspec": {
   "display_name": "Python 3",
   "language": "python",
   "name": "python3"
  },
  "language_info": {
   "codemirror_mode": {
    "name": "ipython",
    "version": 3
   },
   "file_extension": ".py",
   "mimetype": "text/x-python",
   "name": "python",
   "nbconvert_exporter": "python",
   "pygments_lexer": "ipython3",
   "version": "3.8.5"
  }
 },
 "nbformat": 4,
 "nbformat_minor": 4
}
